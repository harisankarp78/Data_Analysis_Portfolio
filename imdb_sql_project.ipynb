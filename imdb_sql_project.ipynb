{
  "metadata": {
    "language_info": {
      "codemirror_mode": {
        "name": "python",
        "version": 3
      },
      "file_extension": ".py",
      "mimetype": "text/x-python",
      "name": "python",
      "nbconvert_exporter": "python",
      "pygments_lexer": "ipython3",
      "version": "3.8"
    },
    "kernelspec": {
      "name": "python",
      "display_name": "Python (Pyodide)",
      "language": "python"
    }
  },
  "nbformat_minor": 4,
  "nbformat": 4,
  "cells": [
    {
      "cell_type": "code",
      "source": "Question 1: Can you get all data about movies?\n\nSelect * from movies;",
      "metadata": {},
      "execution_count": null,
      "outputs": []
    },
    {
      "cell_type": "code",
      "source": "Question 2: How do you get all data about directors?\n\nSelect * from directors;",
      "metadata": {},
      "execution_count": null,
      "outputs": []
    },
    {
      "cell_type": "code",
      "source": "Question 3: Check how many movies are present in iMDB?\n\nselect COUNT (*) from movies;\n",
      "metadata": {},
      "execution_count": null,
      "outputs": []
    },
    {
      "cell_type": "code",
      "source": "Question 4: Find these 3 directors: James Cameron ; Luc Besson ; John Woo \n\nselect * from directors where name == 'James Cameron' or name =='Luc Besson' or name =='John Woo';",
      "metadata": {},
      "execution_count": null,
      "outputs": []
    },
    {
      "cell_type": "code",
      "source": "Question 5: Find all directors with name starting with Steven?\n\nselect * from directors where name LIKE 'Steven%';\n",
      "metadata": {},
      "execution_count": null,
      "outputs": []
    }
  ]
}